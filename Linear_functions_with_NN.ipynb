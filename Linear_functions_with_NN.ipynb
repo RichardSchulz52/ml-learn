{
 "cells": [
  {
   "cell_type": "markdown",
   "id": "c54b296b",
   "metadata": {},
   "source": [
    "# Wie bildet Neuronales Netz mathemathische Funktionen nach?  "
   ]
  },
  {
   "cell_type": "markdown",
   "id": "69e7317f",
   "metadata": {},
   "source": [
    "## Definition einer Linearen Funktion"
   ]
  },
  {
   "cell_type": "code",
   "execution_count": 102,
   "id": "0487e1e1",
   "metadata": {},
   "outputs": [],
   "source": [
    "import tensorflow as tf\n",
    "def linear(slope, offset, x):\n",
    "    return slope*x+offset\n",
    "\n",
    "def get_data(slope, offset):\n",
    "    x_list = [*range(50)]\n",
    "    y_list = []\n",
    "    for i in x_list:\n",
    "        y_list.append(linear(slope,offset,i))\n",
    "    return x_list, y_list\n",
    "\n",
    "\n"
   ]
  },
  {
   "cell_type": "markdown",
   "id": "950679a6",
   "metadata": {},
   "source": [
    "### wir testen 2*x+2"
   ]
  },
  {
   "cell_type": "code",
   "execution_count": 110,
   "id": "efd9e8de",
   "metadata": {},
   "outputs": [],
   "source": [
    "x_list, y_list = get_data(2,2)"
   ]
  },
  {
   "cell_type": "markdown",
   "id": "12d67246",
   "metadata": {},
   "source": [
    "## Test mit einem tiefen Netz"
   ]
  },
  {
   "cell_type": "code",
   "execution_count": 105,
   "id": "206f48f7",
   "metadata": {},
   "outputs": [],
   "source": [
    "# ein eingang -> 3 * 40 Neuronen vollvernetzt -> 1 Ausgang\n",
    "model = tf.keras.Sequential()\n",
    "model.add(Dense(units=40, input_dim=1, activation='relu'))\n",
    "model.add(Dense(units=40, activation='relu'))\n",
    "model.add(Dense(units=40, activation='relu'))\n",
    "model.add(Dense(units=1, activation='relu'))\n",
    "\n",
    "model.compile(optimizer='adam', loss='mean_squared_error')"
   ]
  },
  {
   "cell_type": "code",
   "execution_count": 106,
   "id": "9dfc8135",
   "metadata": {},
   "outputs": [
    {
     "name": "stdout",
     "output_type": "stream",
     "text": [
      "2/2 [==============================] - 0s 2ms/step - loss: 3234.0000\n"
     ]
    },
    {
     "data": {
      "text/plain": [
       "3234.0"
      ]
     },
     "execution_count": 106,
     "metadata": {},
     "output_type": "execute_result"
    }
   ],
   "source": [
    "model.fit(x=x_list, y=y_list, epochs=500, verbose=0)\n",
    "model.evaluate(x=x_list, y=y_list)"
   ]
  },
  {
   "cell_type": "markdown",
   "id": "86f8899d",
   "metadata": {},
   "source": [
    "Das ist kein gutes Ergebnis."
   ]
  },
  {
   "cell_type": "markdown",
   "id": "13a8786d",
   "metadata": {},
   "source": [
    "## Test mit einem breiteren tiefen Netz"
   ]
  },
  {
   "cell_type": "code",
   "execution_count": 108,
   "id": "c520be33",
   "metadata": {},
   "outputs": [],
   "source": [
    "# ein eingang -> 3 * 400 Neuronen vollvernetzt -> 1 Ausgang\n",
    "model = tf.keras.Sequential()\n",
    "model.add(Dense(units=400, input_dim=1, activation='relu'))\n",
    "model.add(Dense(units=400, activation='relu'))\n",
    "model.add(Dense(units=400, activation='relu'))\n",
    "model.add(Dense(units=1, activation='relu'))\n",
    "\n",
    "model.compile(optimizer='adam', loss='mean_squared_error')\n"
   ]
  },
  {
   "cell_type": "code",
   "execution_count": 109,
   "id": "5ecd70a3",
   "metadata": {},
   "outputs": [
    {
     "name": "stdout",
     "output_type": "stream",
     "text": [
      "2/2 [==============================] - 0s 3ms/step - loss: 7.8337e-07\n"
     ]
    },
    {
     "data": {
      "text/plain": [
       "7.833718882466201e-07"
      ]
     },
     "execution_count": 109,
     "metadata": {},
     "output_type": "execute_result"
    }
   ],
   "source": [
    "model.fit(x=x_list, y=y_list, epochs=500, verbose=0)\n",
    "model.evaluate(x=x_list, y=y_list)"
   ]
  },
  {
   "cell_type": "markdown",
   "id": "0afad817",
   "metadata": {},
   "source": [
    "Das Ergebniss sieht für ML-Verhältnisse gut aus, aber brauchen wir wirklich 1200 Neuronen um uns einer einfachen Linearen Funktion nur anzunähern? "
   ]
  },
  {
   "cell_type": "markdown",
   "id": "e5992891",
   "metadata": {},
   "source": [
    "## Das optimale Netz "
   ]
  },
  {
   "cell_type": "markdown",
   "id": "6f805d26",
   "metadata": {},
   "source": [
    "Ein neuron besteht Mathematisch aus einer Gewischtung des Eingangs, einer Konstanten und der Aktivierungskunktion. Die Aktivierungsfunktion 'Relu' lässt alles unverändert durch was größer als Null ist. \n",
    "Eine Lineare funktion definiert sich über zwei Parameter: Die Steigung und den Schnittpunkt mit der Y-Achse. Ein Neuron wär also in der Lage eine Lineare Funktion abzubilden. \n",
    "\n",
    "Warum hat der erste Versuch nicht geklappt und sogar der Zweite war nicht perfekt? Versuchen wir ein Netz aus einem Neuron. Das sogenannte Perceptron. \n"
   ]
  },
  {
   "cell_type": "code",
   "execution_count": 123,
   "id": "2cf4a30d",
   "metadata": {},
   "outputs": [],
   "source": [
    "model = tf.keras.Sequential()\n",
    "model.add(Dense(units=1, input_dim=1, activation='relu'))\n",
    "\n",
    "model.compile(optimizer='adam', loss='mean_squared_error')"
   ]
  },
  {
   "cell_type": "code",
   "execution_count": 124,
   "id": "767ae323",
   "metadata": {
    "scrolled": true
   },
   "outputs": [
    {
     "name": "stdout",
     "output_type": "stream",
     "text": [
      "2/2 [==============================] - 0s 2ms/step - loss: 3434.0000\n"
     ]
    },
    {
     "data": {
      "text/plain": [
       "3434.0"
      ]
     },
     "execution_count": 124,
     "metadata": {},
     "output_type": "execute_result"
    }
   ],
   "source": [
    "model.fit(x=x_list, y=y_list, epochs=500, verbose=0)\n",
    "model.evaluate(x=x_list, y=y_list)"
   ]
  },
  {
   "cell_type": "markdown",
   "id": "eb83c8ef",
   "metadata": {},
   "source": [
    "Wieder scheitert das Netz. Da wir die Theorie kennen, werfen wir also ein Blick auf das Innenleben."
   ]
  },
  {
   "cell_type": "code",
   "execution_count": 126,
   "id": "7d481f9d",
   "metadata": {},
   "outputs": [
    {
     "name": "stdout",
     "output_type": "stream",
     "text": [
      "Gewichtung: -1.1017816\n",
      "Konstante: 0.0\n"
     ]
    }
   ],
   "source": [
    "print('Gewichtung: ' + str(model.get_weights()[0][0][0]))\n",
    "print('Konstante: ' + str(model.get_weights()[1][0]))"
   ]
  },
  {
   "cell_type": "markdown",
   "id": "90e689b2",
   "metadata": {},
   "source": [
    "Wir kennen die Lösung für die Aufgabe. Testen wir diese indem wir die Werte händisch anpassen und das modell wieder evaluieren."
   ]
  },
  {
   "cell_type": "code",
   "execution_count": 132,
   "id": "92164476",
   "metadata": {},
   "outputs": [
    {
     "name": "stdout",
     "output_type": "stream",
     "text": [
      "2/2 [==============================] - 0s 3ms/step - loss: 0.0000e+00\n"
     ]
    },
    {
     "data": {
      "text/plain": [
       "0.0"
      ]
     },
     "execution_count": 132,
     "metadata": {},
     "output_type": "execute_result"
    }
   ],
   "source": [
    "import numpy\n",
    "\n",
    "weight = 2.\n",
    "bias = 2.\n",
    "model.layers[0].set_weights([numpy.array([[weight]]),numpy.array([bias])])\n",
    "\n",
    "model.evaluate(x=x_list, y=y_list)"
   ]
  },
  {
   "cell_type": "markdown",
   "id": "81a0404d",
   "metadata": {},
   "source": [
    "Wir sehen das es mit den richtigen Werten funktioniert. Doch wieso schafft es das Netzwerk nicht innerhalb von 500 Epochen auf diesen Wert zu kommen?"
   ]
  },
  {
   "cell_type": "code",
   "execution_count": null,
   "id": "2e1f0dee",
   "metadata": {},
   "outputs": [],
   "source": []
  },
  {
   "cell_type": "code",
   "execution_count": null,
   "id": "041ab285",
   "metadata": {},
   "outputs": [],
   "source": []
  }
 ],
 "metadata": {
  "kernelspec": {
   "display_name": "tf",
   "language": "python",
   "name": "tf"
  },
  "language_info": {
   "codemirror_mode": {
    "name": "ipython",
    "version": 3
   },
   "file_extension": ".py",
   "mimetype": "text/x-python",
   "name": "python",
   "nbconvert_exporter": "python",
   "pygments_lexer": "ipython3",
   "version": "3.10.8"
  }
 },
 "nbformat": 4,
 "nbformat_minor": 5
}
