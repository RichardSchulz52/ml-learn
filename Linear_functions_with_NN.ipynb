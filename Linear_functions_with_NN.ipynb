{
 "cells": [
  {
   "cell_type": "markdown",
   "id": "5bf65850",
   "metadata": {},
   "source": [
    "# Wie bildet Neuronales Netz mathemathische Funktionen nach?  "
   ]
  },
  {
   "cell_type": "markdown",
   "id": "7322220f",
   "metadata": {},
   "source": [
    "## Definition einer Linearen Funktion"
   ]
  },
  {
   "cell_type": "code",
   "execution_count": 1,
   "id": "0487e1e1",
   "metadata": {},
   "outputs": [],
   "source": [
    "import tensorflow as tf\n",
    "from tensorflow.keras.layers import Dense\n",
    "\n",
    "def linear(slope, offset, x):\n",
    "    return slope*x+offset\n",
    "\n",
    "def get_data(slope, offset):\n",
    "    x_list = [*range(50)]\n",
    "    y_list = []\n",
    "    for i in x_list:\n",
    "        y_list.append(linear(slope,offset,i))\n",
    "    return x_list, y_list\n",
    "\n",
    "\n"
   ]
  },
  {
   "cell_type": "markdown",
   "id": "06b0fca3",
   "metadata": {},
   "source": [
    "### wir testen 2*x+2"
   ]
  },
  {
   "cell_type": "code",
   "execution_count": 2,
   "id": "1429a2f4",
   "metadata": {},
   "outputs": [],
   "source": [
    "\n",
    "x_list, y_list = get_data(2,2)"
   ]
  },
  {
   "cell_type": "markdown",
   "id": "9f7f8ea1",
   "metadata": {},
   "source": [
    "## Test mit einem tiefen Netz"
   ]
  },
  {
   "cell_type": "code",
   "execution_count": 3,
   "id": "bc9c5e19",
   "metadata": {},
   "outputs": [],
   "source": [
    "# ein eingang -> 3 * 40 Neuronen vollvernetzt -> 1 Ausgang\n",
    "model = tf.keras.Sequential()\n",
    "model.add(Dense(units=40, input_dim=1, activation='relu'))\n",
    "model.add(Dense(units=40, activation='relu'))\n",
    "model.add(Dense(units=40, activation='relu'))\n",
    "model.add(Dense(units=1, activation='relu'))\n",
    "\n",
    "model.compile(optimizer='adam', loss='mean_squared_error')"
   ]
  },
  {
   "cell_type": "code",
   "execution_count": 4,
   "id": "d6f828af",
   "metadata": {},
   "outputs": [
    {
     "name": "stdout",
     "output_type": "stream",
     "text": [
      "2/2 [==============================] - 0s 3ms/step - loss: 3434.0000\n"
     ]
    },
    {
     "data": {
      "text/plain": [
       "3434.0"
      ]
     },
     "execution_count": 4,
     "metadata": {},
     "output_type": "execute_result"
    }
   ],
   "source": [
    "model.fit(x=x_list, y=y_list, epochs=500, verbose=0)\n",
    "model.evaluate(x=x_list, y=y_list)"
   ]
  },
  {
   "cell_type": "markdown",
   "id": "a565b4b7",
   "metadata": {},
   "source": [
    "Das ist kein gutes Ergebnis."
   ]
  },
  {
   "cell_type": "markdown",
   "id": "e0fa2a02",
   "metadata": {},
   "source": [
    "## Test mit einem breiteren tiefen Netz"
   ]
  },
  {
   "cell_type": "code",
   "execution_count": 5,
   "id": "c520be33",
   "metadata": {},
   "outputs": [],
   "source": [
    "# ein eingang -> 3 * 400 Neuronen vollvernetzt -> 1 Ausgang\n",
    "model = tf.keras.Sequential()\n",
    "model.add(Dense(units=400, input_dim=1, activation='relu'))\n",
    "model.add(Dense(units=400, activation='relu'))\n",
    "model.add(Dense(units=400, activation='relu'))\n",
    "model.add(Dense(units=1, activation='relu'))\n",
    "\n",
    "model.compile(optimizer='adam', loss='mean_squared_error')\n"
   ]
  },
  {
   "cell_type": "code",
   "execution_count": 6,
   "id": "fa1d669a",
   "metadata": {},
   "outputs": [
    {
     "name": "stdout",
     "output_type": "stream",
     "text": [
      "2/2 [==============================] - 0s 4ms/step - loss: 0.0037\n"
     ]
    },
    {
     "data": {
      "text/plain": [
       "0.0036702610086649656"
      ]
     },
     "execution_count": 6,
     "metadata": {},
     "output_type": "execute_result"
    }
   ],
   "source": [
    "model.fit(x=x_list, y=y_list, epochs=500, verbose=0)\n",
    "model.evaluate(x=x_list, y=y_list)"
   ]
  },
  {
   "cell_type": "markdown",
   "id": "9f14d231",
   "metadata": {},
   "source": [
    "Das Ergebniss sieht für ML-Verhältnisse gut aus, aber brauchen wir wirklich 1200 Neuronen um uns einer einfachen Linearen Funktion nur anzunähern? "
   ]
  },
  {
   "cell_type": "markdown",
   "id": "a2e36da0",
   "metadata": {},
   "source": [
    "## Das optimale Netz "
   ]
  },
  {
   "cell_type": "markdown",
   "id": "a93d5d14",
   "metadata": {},
   "source": [
    "Ein neuron besteht Mathematisch aus einer Gewischtung des Eingangs, einer Konstanten und der Aktivierungskunktion. Die Aktivierungsfunktion 'Relu' lässt alles unverändert durch was größer als Null ist. \n",
    "Eine Lineare funktion definiert sich über zwei Parameter: Die Steigung und den Schnittpunkt mit der Y-Achse. Ein Neuron wär also in der Lage eine Lineare Funktion abzubilden. \n",
    "\n",
    "Warum hat der erste Versuch nicht geklappt und sogar der Zweite war nicht perfekt? Versuchen wir ein Netz aus einem Neuron. Das sogenannte Perceptron. \n"
   ]
  },
  {
   "cell_type": "code",
   "execution_count": 7,
   "id": "2cf4a30d",
   "metadata": {},
   "outputs": [],
   "source": [
    "model = tf.keras.Sequential()\n",
    "model.add(Dense(units=1, input_dim=1, activation='relu'))\n",
    "\n",
    "model.compile(optimizer='adam', loss='mean_squared_error')"
   ]
  },
  {
   "cell_type": "code",
   "execution_count": 9,
   "id": "40256ed9",
   "metadata": {
    "scrolled": true
   },
   "outputs": [
    {
     "name": "stdout",
     "output_type": "stream",
     "text": [
      "2/2 [==============================] - 0s 2ms/step - loss: 0.4959\n"
     ]
    },
    {
     "data": {
      "text/plain": [
       "0.4959096610546112"
      ]
     },
     "execution_count": 9,
     "metadata": {},
     "output_type": "execute_result"
    }
   ],
   "source": [
    "model.fit(x=x_list, y=y_list, epochs=500, verbose=0)\n",
    "model.evaluate(x=x_list, y=y_list)"
   ]
  },
  {
   "cell_type": "markdown",
   "id": "225a34e4",
   "metadata": {},
   "source": [
    "Wieder scheitert das Netz. Da wir die Theorie kennen, werfen wir also ein Blick auf das Innenleben."
   ]
  },
  {
   "cell_type": "code",
   "execution_count": 10,
   "id": "caa97615",
   "metadata": {},
   "outputs": [
    {
     "name": "stdout",
     "output_type": "stream",
     "text": [
      "Gewichtung: 2.0424795\n",
      "Konstante: 0.61266863\n"
     ]
    }
   ],
   "source": [
    "print('Gewichtung: ' + str(model.get_weights()[0][0][0]))\n",
    "print('Konstante: ' + str(model.get_weights()[1][0]))"
   ]
  },
  {
   "cell_type": "markdown",
   "id": "21851e65",
   "metadata": {},
   "source": [
    "Wir kennen die Lösung für die Aufgabe. Testen wir diese indem wir die Werte händisch anpassen und das modell wieder evaluieren."
   ]
  },
  {
   "cell_type": "code",
   "execution_count": 11,
   "id": "329f0cdf",
   "metadata": {},
   "outputs": [
    {
     "name": "stdout",
     "output_type": "stream",
     "text": [
      "2/2 [==============================] - 0s 2ms/step - loss: 0.0000e+00\n"
     ]
    },
    {
     "data": {
      "text/plain": [
       "0.0"
      ]
     },
     "execution_count": 11,
     "metadata": {},
     "output_type": "execute_result"
    }
   ],
   "source": [
    "import numpy\n",
    "\n",
    "weight = 2.\n",
    "bias = 2.\n",
    "model.layers[0].set_weights([numpy.array([[weight]]),numpy.array([bias])])\n",
    "\n",
    "model.evaluate(x=x_list, y=y_list)"
   ]
  },
  {
   "cell_type": "markdown",
   "id": "435ea2d0",
   "metadata": {},
   "source": [
    "Wir sehen das es mit den richtigen Werten funktioniert. Doch wieso schafft es das Netzwerk nicht innerhalb von 500 Epochen auf diesen Wert zu kommen?"
   ]
  },
  {
   "cell_type": "markdown",
   "id": "d47e4269",
   "metadata": {},
   "source": [
    "## Lernanalyse\n",
    "\n",
    "Schauen wir uns an wie sich die Gewichte verhalten im Lernprozess."
   ]
  },
  {
   "cell_type": "code",
   "execution_count": 30,
   "id": "3fbd0b29",
   "metadata": {},
   "outputs": [],
   "source": [
    "model = tf.keras.Sequential()\n",
    "model.add(Dense(units=1, input_dim=1, activation='relu'))\n",
    "\n",
    "model.compile(optimizer='adam', loss='mean_squared_error')\n",
    "\n",
    "epochs_list = [*range(500)]\n",
    "weight_list = []\n",
    "const_list = []\n",
    "\n",
    "for i in epochs_list:\n",
    "    model.fit(x=x_list, y=y_list, epochs=1, verbose=0)\n",
    "    weight_list.append(model.get_weights()[0][0][0])\n",
    "    const_list.append(model.get_weights()[1][0])\n",
    "\n",
    "\n",
    "model.evaluate(x=x_list, y=y_list)"
   ]
  },
  {
   "cell_type": "code",
   "execution_count": 31,
   "id": "bf82af13",
   "metadata": {},
   "outputs": [
    {
     "data": {
      "image/png": "[encoded data removed]",
      "text/plain": [
       "<Figure size 640x480 with 1 Axes>"
      ]
     },
     "metadata": {},
     "output_type": "display_data"
    }
   ],
   "source": [
    "import matplotlib\n",
    "%matplotlib inline\n",
    "#matplotlib.use(\"Agg\")\n",
    "import matplotlib.pyplot as plt\n",
    "\n",
    "\n",
    "#len(epochs_list)\n",
    "plt.plot(epochs_list, weight_list)\n",
    "plt.show()\n"
   ]
  },
  {
   "cell_type": "code",
   "execution_count": 32,
   "id": "8d86acbb",
   "metadata": {},
   "outputs": [
    {
     "data": {
      "image/png": "[encoded data removed]",
      "text/plain": [
       "<Figure size 640x480 with 1 Axes>"
      ]
     },
     "metadata": {},
     "output_type": "display_data"
    }
   ],
   "source": [
    "plt.plot(epochs_list, const_list)\n",
    "plt.show()"
   ]
  }
 ],
 "metadata": {
  "interpreter": {
   "hash": "01aeeeeee71d38a28b2f548e07ddb10724b29d37b187ae16166c7981d831eb28"
  },
  "kernelspec": {
   "display_name": "Python 3.10.8 ('tf')",
   "language": "python",
   "name": "python3"
  },
  "language_info": {
   "codemirror_mode": {
    "name": "ipython",
    "version": 3
   },
   "file_extension": ".py",
   "mimetype": "text/x-python",
   "name": "python",
   "nbconvert_exporter": "python",
   "pygments_lexer": "ipython3",
   "version": "3.10.8"
  }
 },
 "nbformat": 4,
 "nbformat_minor": 5
}
