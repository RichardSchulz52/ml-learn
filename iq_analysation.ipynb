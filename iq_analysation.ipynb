{
 "cells": [
  {
   "cell_type": "code",
   "execution_count": null,
   "id": "12fc7d02",
   "metadata": {},
   "outputs": [],
   "source": [
    "import pandas as pd\n",
    "iq_df = pd.read_csv(\"iq.csv\")\n",
    "iq_df.head()"
   ]
  },
  {
   "cell_type": "code",
   "execution_count": null,
   "id": "bb74019e",
   "metadata": {},
   "outputs": [],
   "source": [
    "# welche Länder sind überdurchschnittlich\n",
    "iq_df[iq_df['iq'] > 100]"
   ]
  },
  {
   "cell_type": "code",
   "execution_count": null,
   "id": "9cfb5883",
   "metadata": {},
   "outputs": [],
   "source": [
    "# wer sind die schlausten? \n",
    "iq_df[iq_df['iq'] == iq_df['iq'].max()]"
   ]
  },
  {
   "cell_type": "code",
   "execution_count": null,
   "id": "19b0c6f3",
   "metadata": {},
   "outputs": [],
   "source": [
    "# Wer gibt besonders viel aus?\n",
    "iq_df[iq_df['education_expenditure_per_inhabitant'] > 1000]"
   ]
  },
  {
   "cell_type": "code",
   "execution_count": null,
   "id": "4077f408",
   "metadata": {},
   "outputs": [],
   "source": [
    "# Ups, analysieren wir...\n",
    "# object = string\n",
    "iq_df.dtypes"
   ]
  },
  {
   "cell_type": "code",
   "execution_count": null,
   "id": "8cd52267",
   "metadata": {
    "scrolled": true
   },
   "outputs": [],
   "source": [
    "eepi = iq_df['education_expenditure_per_inhabitant'].transform(lambda s : str(s).replace(\",\",\"\"))\n",
    "pd.to_numeric(eepi)"
   ]
  },
  {
   "cell_type": "code",
   "execution_count": null,
   "id": "2d482683",
   "metadata": {},
   "outputs": [],
   "source": [
    "# da müssen wir wohl vorher filtern\n",
    "iq_df = iq_df.dropna()\n",
    "eepi = df['education_expenditure_per_inhabitant'].transform(lambda s : str(s).replace(\",\",\"\"))\n",
    "iq_df['education_expenditure_per_inhabitant'] = pd.to_numeric(eepi)\n",
    "iq_df.head()"
   ]
  },
  {
   "cell_type": "code",
   "execution_count": null,
   "id": "fd2f397e",
   "metadata": {},
   "outputs": [],
   "source": [
    "# Wer gibt denn jetzt besonders viel aus?\n",
    "spender_over_1000 = iq_df[iq_df['education_expenditure_per_inhabitant'] > 1000]\n",
    "spender_over_1000.sort_values('education_expenditure_per_inhabitant', ascending=False).head()"
   ]
  },
  {
   "cell_type": "code",
   "execution_count": null,
   "id": "526e9a26",
   "metadata": {},
   "outputs": [],
   "source": [
    "# korreliert hier was?\n",
    "iq_df.corr()"
   ]
  },
  {
   "cell_type": "code",
   "execution_count": null,
   "id": "85d49289",
   "metadata": {},
   "outputs": [],
   "source": [
    "# vereinen wir mit das mit dem gdp pro kopf\n",
    "gdp_df = pd.read_csv(\"gdp_per_capita.csv\")\n",
    "gdp_df.head(3)"
   ]
  },
  {
   "cell_type": "code",
   "execution_count": null,
   "id": "05cefd2a",
   "metadata": {},
   "outputs": [],
   "source": [
    "# wir interessieren uns nur für 2020\n",
    "gdp_df = gdp_df[['Country Name','2020']].dropna()\n",
    "gdp_df.head(3)"
   ]
  },
  {
   "cell_type": "code",
   "execution_count": null,
   "id": "4daa683b",
   "metadata": {},
   "outputs": [],
   "source": [
    "# wie viele gleiche länder haben wir? \n",
    "gdp_countries = gdp_df[['Country Name']]\n",
    "iq_countries = iq_df[['country']].rename(columns={'country':'Country Name'})\n",
    "all_countries = pd.concat([gdp_countries, iq_countries]) # gleiche benannte Spalten werden automatisch angehangen\n",
    "print(\"iq countries \" + str(iq_countries.count()))\n",
    "print(\"gdp countries \" + str(gdp_countries.count()))\n",
    "print(\"all_countries \" + str(all_countries.count()))"
   ]
  },
  {
   "cell_type": "code",
   "execution_count": null,
   "id": "2151f4d3",
   "metadata": {},
   "outputs": [],
   "source": [
    "# und wie viele gleiche haben wir? Wie müsste eigentlich noch auf Schreibfehler geprüft werden\n",
    "all_countries.count() - all_countries.drop_duplicates().count()"
   ]
  },
  {
   "cell_type": "code",
   "execution_count": null,
   "id": "c4a3349b",
   "metadata": {},
   "outputs": [],
   "source": [
    "# beide datensätze auf den richtigen index umstellen \n",
    "gdp_df_i = gdp_df.set_index('Country Name')\n",
    "iq_df_i = iq_df.set_index('country')\n",
    "# und dann anhand dessen vereinen\n",
    "merged_df = pd.merge(gdp_df_i, iq_df_i, left_index=True, right_index=True)\n",
    "merged_df.head(3)"
   ]
  },
  {
   "cell_type": "code",
   "execution_count": null,
   "id": "675fe02a",
   "metadata": {},
   "outputs": [],
   "source": [
    "# 2020 muss noch aussagekräftig benannt werden\n",
    "merged_df = merged_df.rename(columns={\"2020\":\"gdp_per_inhabitant\"})\n",
    "# jetzt können wir eine neue Spalte erzeugen\n",
    "merged_df['education_expenditure_per_gdp'] = (merged_df['education_expenditure_per_inhabitant'] / merged_df['gdp_per_inhabitant'])\n",
    "merged_df.head(3)"
   ]
  },
  {
   "cell_type": "code",
   "execution_count": null,
   "id": "f8aef348",
   "metadata": {},
   "outputs": [],
   "source": [
    "# wie sieht es jetzt mit der korrelation aus?\n",
    "merged_df.corr()"
   ]
  },
  {
   "cell_type": "code",
   "execution_count": null,
   "id": "c68868a1",
   "metadata": {},
   "outputs": [],
   "source": []
  }
 ],
 "metadata": {
  "kernelspec": {
   "display_name": "Python 3 (ipykernel)",
   "language": "python",
   "name": "python3"
  },
  "language_info": {
   "codemirror_mode": {
    "name": "ipython",
    "version": 3
   },
   "file_extension": ".py",
   "mimetype": "text/x-python",
   "name": "python",
   "nbconvert_exporter": "python",
   "pygments_lexer": "ipython3",
   "version": "3.9.13"
  }
 },
 "nbformat": 4,
 "nbformat_minor": 5
}
