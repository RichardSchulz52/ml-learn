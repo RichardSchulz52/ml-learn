{
 "cells": [
  {
   "cell_type": "code",
   "execution_count": null,
   "id": "96e2f107",
   "metadata": {},
   "outputs": [],
   "source": [
    "# die Datei stammt aus dem preparation notebook\n",
    "import pandas as pd\n",
    "data = pd.read_csv('train_airbnb_berlin_preprocessed.csv')\n",
    "data"
   ]
  },
  {
   "cell_type": "markdown",
   "id": "e426dcd5",
   "metadata": {},
   "source": [
    "# Entscheidungsbaum\n",
    "Zuerst müssen eventuell noch Daten Transformiert werden. Dies wurde bei der Erstellung noch nicht berücksichtigt. Danach kommt der Schritt der Featurewahl.\n",
    "\n",
    "In der Praxis drehen wir diese Schritte um, da wir uns dann die Transformation nich gewählter Zeilen sparen."
   ]
  },
  {
   "cell_type": "code",
   "execution_count": null,
   "id": "d3607985",
   "metadata": {
    "scrolled": true
   },
   "outputs": [],
   "source": [
    "from sklearn import preprocessing\n",
    "\n",
    "features = ['Host Since Days', 'neighbourhood', 'Accomodates', 'Bathrooms','Bedrooms','Beds','Guests Included', 'Min Nights', 'Reviews', 'Price']\n",
    "data = data[features]\n",
    "\n",
    "# ein Entscheidungsbaum spaltet ein Datensatz auf. Dabei repräsentiert die Teilung keine Wertigkeit. \n",
    "# Deswegen ist eine Labelkodierung hier akzeptabel. Bei NN z.B. wäre das anders.\n",
    "le = preprocessing.LabelEncoder()\n",
    "data['neighbourhood label'] = le.fit_transform(data['neighbourhood'])\n",
    "data"
   ]
  },
  {
   "cell_type": "code",
   "execution_count": null,
   "id": "9d733684",
   "metadata": {},
   "outputs": [],
   "source": [
    "# jetzt wollen wir noch wissen wie die zuordnung ist\n",
    "neighbourhood_mapping = data[['neighbourhood', 'neighbourhood label']].drop_duplicates()\n",
    "# bevor wir den nominellen Wert wegwerfen\n",
    "data = data.drop(columns=['neighbourhood'])\n",
    "\n",
    "neighbourhood_mapping"
   ]
  },
  {
   "cell_type": "code",
   "execution_count": null,
   "id": "5bfd40cc",
   "metadata": {},
   "outputs": [],
   "source": [
    "# wir haben noch komische Werte übersehen. Die werden einfach platt gemacht. \n",
    "data = data.replace('*',np.nan).dropna(axis = 0, how = 'any')\n",
    "\n",
    "data['Accomodates'] = pd.to_numeric(data['Accomodates'])\n",
    "data['Bathrooms'] = pd.to_numeric(data['Bathrooms'])\n",
    "data['Bedrooms'] = pd.to_numeric(data['Bedrooms'])\n",
    "data['Beds'] = pd.to_numeric(data['Beds'])\n",
    "data['Guests Included'] = pd.to_numeric(data['Guests Included'])\n",
    "data['Min Nights'] = pd.to_numeric(data['Min Nights'])\n"
   ]
  },
  {
   "cell_type": "code",
   "execution_count": null,
   "id": "eaa65a1c",
   "metadata": {},
   "outputs": [],
   "source": [
    "# zerlegen des Datensatzes in Trainings- und Testdaten\n",
    "from sklearn.model_selection import train_test_split\n",
    "import numpy as np\n",
    "\n",
    "price = data.pop('Price')\n",
    "data_np = data.to_numpy()\n",
    "x_train, x_test, y_train, y_test = train_test_split(data_np, price, test_size=0.20, random_state=42)"
   ]
  },
  {
   "cell_type": "code",
   "execution_count": null,
   "id": "be34d215",
   "metadata": {},
   "outputs": [],
   "source": [
    "x_train.shape"
   ]
  },
  {
   "cell_type": "code",
   "execution_count": null,
   "id": "91be8472",
   "metadata": {},
   "outputs": [],
   "source": [
    "from sklearn.tree import DecisionTreeRegressor\n",
    "\n",
    "dtree = DecisionTreeRegressor()\n",
    "dtree = dtree.fit(x_test, y_test)"
   ]
  },
  {
   "cell_type": "code",
   "execution_count": null,
   "id": "957d28ba",
   "metadata": {},
   "outputs": [],
   "source": [
    "from sklearn import tree\n",
    "import matplotlib.pyplot as plt\n",
    "\n",
    "#tree.plot_tree(dtree)"
   ]
  },
  {
   "cell_type": "code",
   "execution_count": null,
   "id": "92637dd7",
   "metadata": {},
   "outputs": [],
   "source": [
    "y_train"
   ]
  },
  {
   "cell_type": "code",
   "execution_count": null,
   "id": "7d793933",
   "metadata": {},
   "outputs": [],
   "source": [
    "# der beste Wert wäre 1 der schlechteste ist negativ unendlich\n",
    "dtree.score(x_test, y_test)"
   ]
  },
  {
   "cell_type": "code",
   "execution_count": null,
   "id": "aad78168",
   "metadata": {},
   "outputs": [],
   "source": [
    "# wie tief ist der Baum?\n",
    "dtree.get_depth()"
   ]
  },
  {
   "cell_type": "code",
   "execution_count": null,
   "id": "c232f0cb",
   "metadata": {},
   "outputs": [],
   "source": [
    "# wie viele Blätter hat er?\n",
    "dtree.get_n_leaves()"
   ]
  },
  {
   "cell_type": "code",
   "execution_count": null,
   "id": "5a42b176",
   "metadata": {},
   "outputs": [],
   "source": []
  }
 ],
 "metadata": {
  "kernelspec": {
   "display_name": "Python 3 (ipykernel)",
   "language": "python",
   "name": "python3"
  },
  "language_info": {
   "codemirror_mode": {
    "name": "ipython",
    "version": 3
   },
   "file_extension": ".py",
   "mimetype": "text/x-python",
   "name": "python",
   "nbconvert_exporter": "python",
   "pygments_lexer": "ipython3",
   "version": "3.9.13"
  }
 },
 "nbformat": 4,
 "nbformat_minor": 5
}
